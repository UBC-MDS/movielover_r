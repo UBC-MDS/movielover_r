{
 "cells": [
  {
   "cell_type": "code",
   "execution_count": 1,
   "metadata": {},
   "outputs": [],
   "source": [
    "import pandas as pd"
   ]
  },
  {
   "cell_type": "code",
   "execution_count": 2,
   "metadata": {},
   "outputs": [
    {
     "name": "stdout",
     "output_type": "stream",
     "text": [
      "<class 'pandas.core.frame.DataFrame'>\n",
      "RangeIndex: 3201 entries, 0 to 3200\n",
      "Data columns (total 16 columns):\n",
      " #   Column                  Non-Null Count  Dtype  \n",
      "---  ------                  --------------  -----  \n",
      " 0   Title                   3200 non-null   object \n",
      " 1   US Gross                3194 non-null   float64\n",
      " 2   Worldwide Gross         3194 non-null   float64\n",
      " 3   US DVD Sales            564 non-null    float64\n",
      " 4   Production Budget       3200 non-null   float64\n",
      " 5   Release Date            3201 non-null   object \n",
      " 6   MPAA Rating             2596 non-null   object \n",
      " 7   Running Time min        1209 non-null   float64\n",
      " 8   Distributor             2969 non-null   object \n",
      " 9   Source                  2836 non-null   object \n",
      " 10  Major Genre             2926 non-null   object \n",
      " 11  Creative Type           2755 non-null   object \n",
      " 12  Director                1870 non-null   object \n",
      " 13  Rotten Tomatoes Rating  2321 non-null   float64\n",
      " 14  IMDB Rating             2988 non-null   float64\n",
      " 15  IMDB Votes              2988 non-null   float64\n",
      "dtypes: float64(8), object(8)\n",
      "memory usage: 400.2+ KB\n"
     ]
    }
   ],
   "source": [
    "movies_df = pd.read_json('https://raw.githubusercontent.com/vega/vega-datasets/master/data/movies.json')\n",
    "movies_df.info()"
   ]
  },
  {
   "cell_type": "code",
   "execution_count": 3,
   "metadata": {},
   "outputs": [],
   "source": [
    "# Add a column of the release year\n",
    "movies_df['Year'] = pd.to_datetime(movies_df['Release Date']).dt.year\n",
    "# A list columns that will appear in the final data frame\n",
    "movies_df['US_Revenue'] = (movies_df['US Gross'])/1000_000\n",
    "column_list = ['Title', 'Major Genre', 'Running Time min', 'Year', 'US_Revenue', 'IMDB Rating', 'MPAA Rating']\n",
    "\n",
    "# Filter out lines with errors or NaNs in 'Running_Time_min', 'Year', 'Major_Genre' columns\n",
    "movies_df = (movies_df.query('Year > 1980')\n",
    "                     .dropna(subset = column_list)\n",
    "                     .loc[:, column_list]\n",
    "                     .reset_index()\n",
    "                     .drop(columns = ['index']))"
   ]
  },
  {
   "cell_type": "code",
   "execution_count": 4,
   "metadata": {},
   "outputs": [
    {
     "data": {
      "text/plain": [
       "(1134, 7)"
      ]
     },
     "execution_count": 4,
     "metadata": {},
     "output_type": "execute_result"
    }
   ],
   "source": [
    "movies_df.shape"
   ]
  },
  {
   "cell_type": "code",
   "execution_count": 5,
   "metadata": {},
   "outputs": [
    {
     "data": {
      "text/html": [
       "<div>\n",
       "<style scoped>\n",
       "    .dataframe tbody tr th:only-of-type {\n",
       "        vertical-align: middle;\n",
       "    }\n",
       "\n",
       "    .dataframe tbody tr th {\n",
       "        vertical-align: top;\n",
       "    }\n",
       "\n",
       "    .dataframe thead th {\n",
       "        text-align: right;\n",
       "    }\n",
       "</style>\n",
       "<table border=\"1\" class=\"dataframe\">\n",
       "  <thead>\n",
       "    <tr style=\"text-align: right;\">\n",
       "      <th></th>\n",
       "      <th>Title</th>\n",
       "      <th>Major Genre</th>\n",
       "      <th>Running Time min</th>\n",
       "      <th>Year</th>\n",
       "      <th>US_Revenue</th>\n",
       "      <th>IMDB Rating</th>\n",
       "      <th>MPAA Rating</th>\n",
       "    </tr>\n",
       "  </thead>\n",
       "  <tbody>\n",
       "    <tr>\n",
       "      <th>63</th>\n",
       "      <td>The Wizard of Oz</td>\n",
       "      <td>Musical</td>\n",
       "      <td>103.0</td>\n",
       "      <td>2039</td>\n",
       "      <td>28.202232</td>\n",
       "      <td>8.3</td>\n",
       "      <td>G</td>\n",
       "    </tr>\n",
       "    <tr>\n",
       "      <th>20</th>\n",
       "      <td>Gone with the Wind</td>\n",
       "      <td>Drama</td>\n",
       "      <td>222.0</td>\n",
       "      <td>2039</td>\n",
       "      <td>198.680470</td>\n",
       "      <td>8.2</td>\n",
       "      <td>G</td>\n",
       "    </tr>\n",
       "    <tr>\n",
       "      <th>591</th>\n",
       "      <td>The Karate Kid</td>\n",
       "      <td>Adventure</td>\n",
       "      <td>140.0</td>\n",
       "      <td>2010</td>\n",
       "      <td>176.591618</td>\n",
       "      <td>6.1</td>\n",
       "      <td>PG</td>\n",
       "    </tr>\n",
       "    <tr>\n",
       "      <th>1091</th>\n",
       "      <td>Winter's Bone</td>\n",
       "      <td>Drama</td>\n",
       "      <td>100.0</td>\n",
       "      <td>2010</td>\n",
       "      <td>5.951693</td>\n",
       "      <td>8.2</td>\n",
       "      <td>R</td>\n",
       "    </tr>\n",
       "    <tr>\n",
       "      <th>1043</th>\n",
       "      <td>The Town</td>\n",
       "      <td>Drama</td>\n",
       "      <td>123.0</td>\n",
       "      <td>2010</td>\n",
       "      <td>30.980607</td>\n",
       "      <td>8.7</td>\n",
       "      <td>R</td>\n",
       "    </tr>\n",
       "  </tbody>\n",
       "</table>\n",
       "</div>"
      ],
      "text/plain": [
       "                   Title Major Genre  Running Time min  Year  US_Revenue  \\\n",
       "63      The Wizard of Oz     Musical             103.0  2039   28.202232   \n",
       "20    Gone with the Wind       Drama             222.0  2039  198.680470   \n",
       "591       The Karate Kid   Adventure             140.0  2010  176.591618   \n",
       "1091       Winter's Bone       Drama             100.0  2010    5.951693   \n",
       "1043            The Town       Drama             123.0  2010   30.980607   \n",
       "\n",
       "      IMDB Rating MPAA Rating  \n",
       "63            8.3           G  \n",
       "20            8.2           G  \n",
       "591           6.1          PG  \n",
       "1091          8.2           R  \n",
       "1043          8.7           R  "
      ]
     },
     "execution_count": 5,
     "metadata": {},
     "output_type": "execute_result"
    }
   ],
   "source": [
    "movies_df.sort_values(by='Year',ascending=False).head(5)"
   ]
  },
  {
   "cell_type": "markdown",
   "metadata": {},
   "source": [
    "We found two odd release years for the movie `The Wizard of Oz` and `Gone with the Wind`, and after some research we found that the release year were 1939 instead of 2039; since 1939 are not in the range we are interested in, we decide to drop these two rows."
   ]
  },
  {
   "cell_type": "code",
   "execution_count": 6,
   "metadata": {},
   "outputs": [
    {
     "data": {
      "text/plain": [
       "(1132, 7)"
      ]
     },
     "execution_count": 6,
     "metadata": {},
     "output_type": "execute_result"
    }
   ],
   "source": [
    "movies_df = movies_df.query(\"Year != 2039\")\n",
    "movies_df.shape"
   ]
  },
  {
   "cell_type": "code",
   "execution_count": 7,
   "metadata": {},
   "outputs": [
    {
     "data": {
      "text/html": [
       "<div>\n",
       "<style scoped>\n",
       "    .dataframe tbody tr th:only-of-type {\n",
       "        vertical-align: middle;\n",
       "    }\n",
       "\n",
       "    .dataframe tbody tr th {\n",
       "        vertical-align: top;\n",
       "    }\n",
       "\n",
       "    .dataframe thead th {\n",
       "        text-align: right;\n",
       "    }\n",
       "</style>\n",
       "<table border=\"1\" class=\"dataframe\">\n",
       "  <thead>\n",
       "    <tr style=\"text-align: right;\">\n",
       "      <th></th>\n",
       "      <th>Running Time min</th>\n",
       "      <th>Year</th>\n",
       "      <th>US_Revenue</th>\n",
       "      <th>IMDB Rating</th>\n",
       "    </tr>\n",
       "  </thead>\n",
       "  <tbody>\n",
       "    <tr>\n",
       "      <th>count</th>\n",
       "      <td>1132.000000</td>\n",
       "      <td>1132.000000</td>\n",
       "      <td>1132.000000</td>\n",
       "      <td>1132.000000</td>\n",
       "    </tr>\n",
       "    <tr>\n",
       "      <th>mean</th>\n",
       "      <td>110.262367</td>\n",
       "      <td>2002.520318</td>\n",
       "      <td>71.578812</td>\n",
       "      <td>6.305477</td>\n",
       "    </tr>\n",
       "    <tr>\n",
       "      <th>std</th>\n",
       "      <td>19.907547</td>\n",
       "      <td>3.949564</td>\n",
       "      <td>70.584953</td>\n",
       "      <td>1.143971</td>\n",
       "    </tr>\n",
       "    <tr>\n",
       "      <th>min</th>\n",
       "      <td>46.000000</td>\n",
       "      <td>1985.000000</td>\n",
       "      <td>0.012604</td>\n",
       "      <td>1.700000</td>\n",
       "    </tr>\n",
       "    <tr>\n",
       "      <th>25%</th>\n",
       "      <td>95.000000</td>\n",
       "      <td>1999.000000</td>\n",
       "      <td>27.679465</td>\n",
       "      <td>5.600000</td>\n",
       "    </tr>\n",
       "    <tr>\n",
       "      <th>50%</th>\n",
       "      <td>107.500000</td>\n",
       "      <td>2002.000000</td>\n",
       "      <td>49.605446</td>\n",
       "      <td>6.400000</td>\n",
       "    </tr>\n",
       "    <tr>\n",
       "      <th>75%</th>\n",
       "      <td>121.000000</td>\n",
       "      <td>2006.000000</td>\n",
       "      <td>91.398651</td>\n",
       "      <td>7.100000</td>\n",
       "    </tr>\n",
       "    <tr>\n",
       "      <th>max</th>\n",
       "      <td>201.000000</td>\n",
       "      <td>2010.000000</td>\n",
       "      <td>600.788188</td>\n",
       "      <td>9.100000</td>\n",
       "    </tr>\n",
       "  </tbody>\n",
       "</table>\n",
       "</div>"
      ],
      "text/plain": [
       "       Running Time min         Year   US_Revenue  IMDB Rating\n",
       "count       1132.000000  1132.000000  1132.000000  1132.000000\n",
       "mean         110.262367  2002.520318    71.578812     6.305477\n",
       "std           19.907547     3.949564    70.584953     1.143971\n",
       "min           46.000000  1985.000000     0.012604     1.700000\n",
       "25%           95.000000  1999.000000    27.679465     5.600000\n",
       "50%          107.500000  2002.000000    49.605446     6.400000\n",
       "75%          121.000000  2006.000000    91.398651     7.100000\n",
       "max          201.000000  2010.000000   600.788188     9.100000"
      ]
     },
     "execution_count": 7,
     "metadata": {},
     "output_type": "execute_result"
    }
   ],
   "source": [
    "movies_df.describe()"
   ]
  },
  {
   "cell_type": "code",
   "execution_count": 8,
   "metadata": {},
   "outputs": [],
   "source": [
    "movies_df.to_csv('../data/clean/movies_clean_df.csv')"
   ]
  }
 ],
 "metadata": {
  "kernelspec": {
   "display_name": "Python 3 (ipykernel)",
   "language": "python",
   "name": "python3"
  },
  "language_info": {
   "codemirror_mode": {
    "name": "ipython",
    "version": 3
   },
   "file_extension": ".py",
   "mimetype": "text/x-python",
   "name": "python",
   "nbconvert_exporter": "python",
   "pygments_lexer": "ipython3",
   "version": "3.9.9"
  }
 },
 "nbformat": 4,
 "nbformat_minor": 4
}
